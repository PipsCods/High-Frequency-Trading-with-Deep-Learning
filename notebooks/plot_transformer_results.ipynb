{
 "cells": [
  {
   "cell_type": "code",
   "execution_count": null,
   "id": "0",
   "metadata": {},
   "outputs": [],
   "source": [
    "import pandas as pd \n",
    "import numpy as np \n",
    "import matplotlib.pyplot as plt\n",
    "import seaborn as sns\n",
    "import glob\n",
    "\n",
    "loss_dfs = sorted(glob.glob(\"../../data/results2/*_losses.csv\"))\n",
    "\n",
    "loss_dfs"
   ]
  },
  {
   "cell_type": "code",
   "execution_count": null,
   "id": "1",
   "metadata": {},
   "outputs": [],
   "source": [
    "for fn in loss_dfs:\n",
    "    exp =fn.strip(\"../dataresult2losses.csv\\\\\")\n",
    "    experiment = exp.split(\"_\")\n",
    "\n",
    "    dfl = pd.read_csv(fn)\n",
    "    dfl[\"epochs\"] = dfl[\"Unnamed: 0\"] + 1\n",
    "    dfl.drop(columns=\"Unnamed: 0\", inplace= True)\n",
    "\n",
    "    plt.figure(figsize=(12, 8))\n",
    "    sns.lineplot(data = dfl, x = \"epochs\", y = \"train\", label = \"Train Loss\")\n",
    "    sns.lineplot(data = dfl, x = \"epochs\", y = \"test\", label = \"Test Loss\")\n",
    "    sns.lineplot(data = dfl, x = \"epochs\", y = \"acc\", label = \"Sign Accuracy\")\n",
    "    plt.grid()\n",
    "    plt.title(f\"\"\"Metrics evolution for :\n",
    "               stocks = {experiment[0]} | baseline : {experiment[1]} | wrappper : {experiment[2]} | alpha : {experiment[3]}\"\"\")\n",
    "    plt.ylabel(\"\")\n",
    "    plt.legend()\n",
    "    #plt.savefig(f\"../../data/results/figures/{exp}_lossgraph.png\")\n",
    "\n",
    "    plt.show()\n"
   ]
  }
 ],
 "metadata": {
  "kernelspec": {
   "display_name": "ML_p",
   "language": "python",
   "name": "python3"
  },
  "language_info": {
   "codemirror_mode": {
    "name": "ipython",
    "version": 3
   },
   "file_extension": ".py",
   "mimetype": "text/x-python",
   "name": "python",
   "nbconvert_exporter": "python",
   "pygments_lexer": "ipython3",
   "version": "3.10.16"
  }
 },
 "nbformat": 4,
 "nbformat_minor": 5
}
