{
 "cells": [
  {
   "cell_type": "markdown",
   "id": "0",
   "metadata": {},
   "source": [
    "# Préambule\n",
    "___"
   ]
  },
  {
   "cell_type": "code",
   "execution_count": null,
   "id": "1",
   "metadata": {},
   "outputs": [],
   "source": [
    "import pandas as pd\n",
    "\n",
    "import data_explor.rui.data_preambule as data_preambule\n",
    "import strategies\n",
    "from tool_kit import*\n",
    "\n",
    "import sys\n",
    "import runpy\n",
    "from joblib import load, Parallel, delayed\n",
    "from tqdm import tqdm\n"
   ]
  },
  {
   "cell_type": "code",
   "execution_count": null,
   "id": "2",
   "metadata": {},
   "outputs": [],
   "source": [
    "# parameters\n",
    "DATA_PATH = '../../data/high_10m.parquet'\n",
    "NUM_LAGS = 10\n",
    "NUM_STOCKS = 10\n",
    "TRAIN_WINDOW = 50\n",
    "OUTPUT_PATH = '../../data/processed_high_10m_subset.parquet'\n",
    "SEED = 42\n",
    "SHRINKAGE_LIST = [0.0001, 0.001, 0.01, 0.1, 1, 10, 100]\n"
   ]
  },
  {
   "cell_type": "code",
   "execution_count": null,
   "id": "3",
   "metadata": {},
   "outputs": [],
   "source": [
    "sys.argv = [\n",
    "    'data_preambule.py',\n",
    "    '--data_path', DATA_PATH,\n",
    "    '--num_lags', str(NUM_LAGS),\n",
    "    '--num_random_stocks', str(NUM_STOCKS),\n",
    "    '--output_path', OUTPUT_PATH,\n",
    "    '--seed', str(SEED)\n",
    "]"
   ]
  },
  {
   "cell_type": "code",
   "execution_count": null,
   "id": "4",
   "metadata": {},
   "outputs": [],
   "source": [
    "data_preambule.main()"
   ]
  },
  {
   "cell_type": "code",
   "execution_count": null,
   "id": "5",
   "metadata": {},
   "outputs": [],
   "source": [
    "# Define the vector of features\n",
    "features = [f\"return_lag_{i}\" for i in range(1, 11)]"
   ]
  },
  {
   "cell_type": "markdown",
   "id": "6",
   "metadata": {},
   "source": [
    "# Linear Regression\n",
    "___"
   ]
  },
  {
   "cell_type": "code",
   "execution_count": null,
   "id": "7",
   "metadata": {},
   "outputs": [],
   "source": [
    "# Load dataset\n",
    "table2 = pd.read_parquet(OUTPUT_PATH)\n",
    "table2.head(2)"
   ]
  },
  {
   "cell_type": "code",
   "execution_count": null,
   "id": "8",
   "metadata": {},
   "outputs": [],
   "source": [
    "# Run in parallel\n",
    "results_nested = Parallel(n_jobs=-1)(\n",
    "    delayed(run_regression_for_symbol)(\n",
    "        symbol, group, features=features, train_window=TRAIN_WINDOW\n",
    "    )\n",
    "    for symbol, group in tqdm(table2.groupby(\"symbol\"))\n",
    ")\n",
    "\n",
    "# Flatten the list of lists\n",
    "OLS_regression_results = [item for sublist in results_nested for item in sublist]\n",
    "\n",
    "# Store the results\n",
    "pd.DataFrame(OLS_regression_results).to_parquet('../../data/OLS_regression_results.parquet', index=False)"
   ]
  },
  {
   "cell_type": "code",
   "execution_count": null,
   "id": "9",
   "metadata": {},
   "outputs": [],
   "source": [
    "sys.argv = [\n",
    "    'regressions.py',\n",
    "    '--data_path', str(OUTPUT_PATH),\n",
    "    '--model_path', '../../data/',\n",
    "    '--model', 'ols',\n",
    "    '--plot', str(False)\n",
    "]\n",
    "\n",
    "strategies.main()"
   ]
  },
  {
   "cell_type": "markdown",
   "id": "10",
   "metadata": {},
   "source": [
    "# Ridge regression (non-random)\n",
    "___"
   ]
  },
  {
   "cell_type": "code",
   "execution_count": null,
   "id": "11",
   "metadata": {},
   "outputs": [],
   "source": [
    "# Run in parallel over all symbols\n",
    "results = Parallel(n_jobs=-1)(\n",
    "    delayed(run_ridge_for_symbol)(symbol, group, features=features, train_window= TRAIN_WINDOW, shrinkage_list=SHRINKAGE_LIST)\n",
    "    for symbol, group in tqdm(table2.groupby(\"symbol\"))\n",
    ")\n",
    "# Flatten the nested list of predictions\n",
    "ridge_regression_results = [item for sublist in results for item in sublist]\n",
    "\n",
    "# Store the results\n",
    "pd.DataFrame(ridge_regression_results).to_parquet('../../data/ridge_regression_results.parquet', index=False)"
   ]
  },
  {
   "cell_type": "code",
   "execution_count": null,
   "id": "12",
   "metadata": {},
   "outputs": [],
   "source": [
    "sys.argv = [\n",
    "    'regressions.py',\n",
    "    '--data_path', str(OUTPUT_PATH),\n",
    "    '--model_path', '../../data/',\n",
    "    '--model', 'ridge',\n",
    "    '--shrinkage_list', *map(str, SHRINKAGE_LIST),\n",
    "    '--plot', str(True)\n",
    "]\n",
    "\n",
    "\n",
    "strategies.main()"
   ]
  },
  {
   "cell_type": "markdown",
   "id": "13",
   "metadata": {},
   "source": [
    "# Ridge with random featuring\n",
    "___"
   ]
  },
  {
   "cell_type": "markdown",
   "id": "14",
   "metadata": {},
   "source": [
    "## Creating random stuff"
   ]
  },
  {
   "cell_type": "code",
   "execution_count": null,
   "id": "15",
   "metadata": {},
   "outputs": [],
   "source": [
    "functions = [\n",
    "    lambda x: np.sin(x),\n",
    "    lambda x: np.cos(x),\n",
    "    lambda x: np.tan(x),\n",
    "    lambda x: x**2,\n",
    "    lambda x: np.abs(x),\n",
    "    lambda x: np.sign(x),\n",
    "]"
   ]
  },
  {
   "cell_type": "code",
   "execution_count": null,
   "id": "16",
   "metadata": {},
   "outputs": [],
   "source": [
    "# Creating std_deviation, skew, kurtosis columns for each lag\n",
    "df_copy = table2.copy()\n",
    "\n",
    "df_copy['lag_std'] = df_copy[lag_columns].std(axis=1)\n",
    "df_copy['lag_skew'] = df_copy[lag_columns].skew(axis=1)\n",
    "df_copy['lag_kurt'] = df_copy[lag_columns].kurt(axis=1)\n",
    "\n",
    "# Features for regression\n",
    "features = features + 'lag_std lag_skew lag_kurt'.split()"
   ]
  },
  {
   "cell_type": "code",
   "execution_count": null,
   "id": "17",
   "metadata": {},
   "outputs": [],
   "source": [
    "F = 5000\n",
    "# Creating random features coming from non-linear functions\n",
    "split = int(F/2)\n",
    "\n",
    "random_features = [f'feature_{feature}' for feature in range(F)]\n",
    "\n",
    "feature_dict = {}\n",
    "\n",
    "# Creating random features coming from non-linear functions\n",
    "for feature in random_features[:split]:\n",
    "    func = np.random.choice(functions)\n",
    "    feature_dict[feature] = func(df_copy['return_lag_1'])\n",
    "\n",
    "# Generate noise based on lagstd of each feature\n",
    "noise_matrix = np.random.randn(len(df_copy), len(random_features[split:])) * df_copy['lag_std'].values[:, None]\n",
    "noise_features = dict(zip(random_features[split:], noise_matrix.T))\n",
    "\n",
    "all_features = {**feature_dict, **noise_features}\n",
    "\n",
    "df_copy = pd.concat([df_copy, pd.DataFrame(all_features)], axis=1)\n",
    "\n",
    "features = features + random_features\n"
   ]
  },
  {
   "cell_type": "code",
   "execution_count": null,
   "id": "18",
   "metadata": {},
   "outputs": [],
   "source": [
    "table2 = df_copy\n",
    "del df_copy"
   ]
  },
  {
   "cell_type": "markdown",
   "id": "19",
   "metadata": {},
   "source": [
    "## Running the ridge regression"
   ]
  },
  {
   "cell_type": "code",
   "execution_count": null,
   "id": "20",
   "metadata": {},
   "outputs": [],
   "source": [
    "# Run in parallel over all symbols\n",
    "results = Parallel(n_jobs=-1)(\n",
    "    delayed(run_ridge_for_symbol)(symbol, group, features=features, train_window= train_window, shrinkage_list=shrinkage_list)\n",
    "    for symbol, group in tqdm.tqdm(table2.groupby(\"SYMBOL\"))\n",
    ")\n",
    "\n",
    "# Flatten the nested list of predictions\n",
    "results = [item for sublist in results for item in sublist]\n",
    "\n",
    "# Convert to DataFrame\n",
    "df_predictions = pd.DataFrame(results).set_index(['symbol', 'timestamp'])"
   ]
  },
  {
   "cell_type": "markdown",
   "id": "21",
   "metadata": {},
   "source": [
    "### Scores"
   ]
  },
  {
   "cell_type": "code",
   "execution_count": null,
   "id": "22",
   "metadata": {},
   "outputs": [],
   "source": [
    "r2 = r2_score(df_predictions['y_true'], df_predictions['y_pred'])\n",
    "mae = mean_absolute_error(df_predictions['y_true'], df_predictions['y_pred'])\n",
    "\n",
    "print(f\"Overall R²: {r2:.4f}\")\n",
    "print(f\"Overall MAE: {mae:.6f}\")"
   ]
  },
  {
   "cell_type": "markdown",
   "id": "23",
   "metadata": {},
   "source": [
    "### Managed returns"
   ]
  },
  {
   "cell_type": "code",
   "execution_count": null,
   "id": "24",
   "metadata": {},
   "outputs": [],
   "source": [
    "# Market benchmark\n",
    "df_predictions = df_predictions.reset_index()\n",
    "df_market_returns = df_predictions.groupby('timestamp')['y_true'].mean()\n",
    "\n",
    "# Our strategy returns\n",
    "df_market_timing = df_predictions[['symbol','timestamp','alpha','y_pred','managed_return']]\n",
    "df_market_timing = pd.pivot_table(df_market_timing, values=['managed_return'], index=['symbol', 'timestamp'],\n",
    "                       columns=['alpha'], aggfunc=\"mean\")\n",
    "df_market_timing = df_market_timing.groupby(level=1).mean()"
   ]
  },
  {
   "cell_type": "code",
   "execution_count": null,
   "id": "25",
   "metadata": {},
   "outputs": [],
   "source": [
    "tmp = pd.concat([df_market_returns,df_market_timing], axis = 1)\n",
    "tmp = tmp/tmp.std()\n",
    "sr = sharpe_ratio(tmp)"
   ]
  },
  {
   "cell_type": "code",
   "execution_count": null,
   "id": "26",
   "metadata": {},
   "outputs": [],
   "source": [
    "market_returns = tmp['y_true']\n",
    "managed_returns = tmp.iloc[:,1:]"
   ]
  },
  {
   "cell_type": "code",
   "execution_count": null,
   "id": "27",
   "metadata": {},
   "outputs": [],
   "source": [
    "plt.figure(figsize=(12, 6))\n",
    "plt.plot(market_returns.cumsum(), label=\"Market returns\", linestyle=\"--\")\n",
    "\n",
    "for alpha in shrinkage_list:\n",
    "\n",
    "    plt.plot(\n",
    "       managed_returns.cumsum()[('managed_return', alpha)],\n",
    "       label=f\"Managed returns (α={alpha})\"\n",
    "    )\n",
    "\n",
    "plt.xlabel(\"Time\")\n",
    "plt.ylabel(\"Cumulative Return\")\n",
    "plt.title(\"Managed Strategy vs. Market Benchmark\")\n",
    "plt.legend()\n",
    "plt.grid(True)\n",
    "plt.tight_layout()\n",
    "plt.show()"
   ]
  },
  {
   "cell_type": "code",
   "execution_count": null,
   "id": "28",
   "metadata": {},
   "outputs": [],
   "source": [
    "print(sr)"
   ]
  },
  {
   "cell_type": "code",
   "execution_count": null,
   "id": "29",
   "metadata": {},
   "outputs": [],
   "source": []
  }
 ],
 "metadata": {
  "kernelspec": {
   "display_name": "Python 3",
   "language": "python",
   "name": "python3"
  },
  "language_info": {
   "codemirror_mode": {
    "name": "ipython",
    "version": 2
   },
   "file_extension": ".py",
   "mimetype": "text/x-python",
   "name": "python",
   "nbconvert_exporter": "python",
   "pygments_lexer": "ipython2",
   "version": "2.7.6"
  }
 },
 "nbformat": 4,
 "nbformat_minor": 5
}
