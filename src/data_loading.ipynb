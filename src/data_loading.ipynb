{
 "cells": [
  {
   "cell_type": "code",
   "execution_count": null,
   "id": "0",
   "metadata": {},
   "outputs": [],
   "source": [
    "import pandas as pd\n",
    "import numpy as np \n",
    "import glob\n",
    "from tqdm import tqdm\n",
    "import sys\n",
    "import os\n",
    "from pathlib import Path\n",
    "\n",
    "BASE_DIR = Path.cwd()\n",
    "TARGET_DIR = BASE_DIR / \"data\" / \"raw\" / \"high_10m\" / \"*.csv.gz\"\n",
    "files = sorted(glob.glob(str(TARGET_DIR)))"
   ]
  },
  {
   "cell_type": "code",
   "execution_count": null,
   "id": "1",
   "metadata": {},
   "outputs": [],
   "source": [
    "days = []\n",
    "\n",
    "for fn in tqdm(files, desc= \"Reading files\"):\n",
    "    day = pd.read_csv(fn, compression= \"gzip\", parse_dates= [\"DATE\"])\n",
    "    days.append(day)\n",
    "\n",
    "df = pd.concat(days, ignore_index= True)"
   ]
  },
  {
   "cell_type": "code",
   "execution_count": null,
   "id": "2",
   "metadata": {},
   "outputs": [],
   "source": [
    "print(\"Shape of the data: \", df.shape)\n",
    "print(\"Number of stocks: \", df[\"SYMBOL\"].nunique())\n"
   ]
  },
  {
   "cell_type": "code",
   "execution_count": null,
   "id": "3",
   "metadata": {},
   "outputs": [],
   "source": [
    "df = df.sort_values(by=[\"SYMBOL\", \"DATE\"])\n",
    "df.isnull().sum()"
   ]
  },
  {
   "cell_type": "markdown",
   "id": "4",
   "metadata": {},
   "source": [
    "### IF WE WANT TO TRADE DAILY AND NOT CARE ABOUT THE OVERNIGHT SHIFT, WE CALCULATE THE RETURN ON THE DAILY BASIS, MEANING I GROUPBY THE DATE AND WE START WITH A RETURN OF 0 EVERY DAY, WE CAN CHANGE THIS IN THE FUTURE"
   ]
  },
  {
   "cell_type": "code",
   "execution_count": null,
   "id": "5",
   "metadata": {},
   "outputs": [],
   "source": [
    "# Calculate the return on the column MID_OPEN, for each stock \"SYMBOL\" and on each day \"DATE\"\n",
    "df[\"RETURN_NoOVERNIGHT\"] = (df.groupby([\"SYMBOL\", \"DATE\"])[\"MID_OPEN\"].pct_change()) # Best way to calcuate the return\n",
    "df[\"RETURN_NoOVERNIGHT\"] = df[\"RETURN_NoOVERNIGHT\"].fillna(0)\n",
    "\n",
    "df[\"LOG_RETURN_NoOVERNIGHT\"] = np.log(1 + df[\"RETURN_NoOVERNIGHT\"])\n",
    "df[\"LOG_RETURN_NoOVERNIGHT\"] = df[\"LOG_RETURN_NoOVERNIGHT\"].fillna(0)"
   ]
  },
  {
   "cell_type": "code",
   "execution_count": null,
   "id": "6",
   "metadata": {},
   "outputs": [],
   "source": [
    "# Calculate the return on the column MID_OPEN, for each stock \"SYMBOL\" \n",
    "df[\"RETURN_SiOVERNIGHT\"] = (df.groupby(\"SYMBOL\")[\"MID_OPEN\"].pct_change()) # Best way to calcuate the return\n",
    "df[\"RETURN_SiOVERNIGHT\"] = df[\"RETURN_SiOVERNIGHT\"].fillna(0)\n",
    "\n",
    "df[\"LOG_RETURN_SiOVERNIGHT\"] = np.log(1 + df[\"RETURN_SiOVERNIGHT\"])\n",
    "df[\"LOG_RETURN_SiOVERNIGHT\"] = df[\"LOG_RETURN_SiOVERNIGHT\"].fillna(0)"
   ]
  },
  {
   "cell_type": "code",
   "execution_count": null,
   "id": "7",
   "metadata": {},
   "outputs": [],
   "source": [
    "# SAVE THE PARQUET IN THE DATA FOLDER FOR EASY ACCESS NEXT TIME\n",
    "SAVE_DIR = BASE_DIR / \"data\" / \"processed\" / \"high_10m.parquet\"\n",
    "df.to_parquet(SAVE_DIR, index = False)"
   ]
  },
  {
   "cell_type": "code",
   "execution_count": null,
   "id": "8",
   "metadata": {},
   "outputs": [],
   "source": [
    "print(\"Number of intraday returns per stock: \", (df.groupby(['SYMBOL', 'DATE'])['TIME'].nunique()).nunique())\n",
    "print(df.isnull().sum())"
   ]
  },
  {
   "cell_type": "code",
   "execution_count": null,
   "id": "9",
   "metadata": {},
   "outputs": [],
   "source": [
    "df.drop(['ALL_EX', 'SUM_DELTA'], axis=1, inplace=True)\n",
    "\n",
    "print(\"DataFrame Info:\")\n",
    "df.info()\n",
    "print(\"-\" * 50)\n"
   ]
  },
  {
   "cell_type": "code",
   "execution_count": null,
   "id": "10",
   "metadata": {},
   "outputs": [],
   "source": [
    "print(df['SYMBOL'].nunique()) # How many unique symbols are there?\n",
    "print(df['SYMBOL'].value_counts()) # Top 5 most frequent symbols\n",
    "# print(df[df['SYMBOL'] == 'AAA']) # Look at the first few rows for a specific symbol\n",
    "# If there are few unique values, consider converting to 'category' dtype to save memory:\n",
    "# df['SYMBOL'] = df['SYMBOL'].astype('category')\n",
    "\n",
    "print(df['TIME'].nunique())\n",
    "print(df['TIME'].value_counts()) # Look at the first few time entries\n",
    "\n",
    "# If few unique values, convert to 'category':\n",
    "# df['ALL_EX'] = df['ALL_EX'].astype('category')"
   ]
  }
 ],
 "metadata": {
  "kernelspec": {
   "display_name": "environment",
   "language": "python",
   "name": "python3"
  },
  "language_info": {
   "codemirror_mode": {
    "name": "ipython",
    "version": 3
   },
   "file_extension": ".py",
   "mimetype": "text/x-python",
   "name": "python",
   "nbconvert_exporter": "python",
   "pygments_lexer": "ipython3",
   "version": "3.11.11"
  }
 },
 "nbformat": 4,
 "nbformat_minor": 5
}
