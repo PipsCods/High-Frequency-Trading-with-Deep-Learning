{
 "cells": [
  {
   "cell_type": "markdown",
   "id": "fca10b42",
   "metadata": {},
   "source": [
    "forza napoli"
   ]
  }
 ],
 "metadata": {
  "kernelspec": {
   "display_name": "ML_p",
   "language": "python",
   "name": "python3"
  },
  "language_info": {
   "name": "python",
   "version": "3.10.16"
  }
 },
 "nbformat": 4,
 "nbformat_minor": 5
}
