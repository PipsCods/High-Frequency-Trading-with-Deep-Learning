{
 "cells": [
  {
   "cell_type": "code",
   "execution_count": 10,
   "id": "8c3e5b6c",
   "metadata": {},
   "outputs": [
    {
     "data": {
      "text/plain": [
       "['../../data/Targets/high_10m\\\\20211201.csv.gz',\n",
       " '../../data/Targets/high_10m\\\\20211202.csv.gz',\n",
       " '../../data/Targets/high_10m\\\\20211203.csv.gz',\n",
       " '../../data/Targets/high_10m\\\\20211206.csv.gz',\n",
       " '../../data/Targets/high_10m\\\\20211207.csv.gz',\n",
       " '../../data/Targets/high_10m\\\\20211208.csv.gz',\n",
       " '../../data/Targets/high_10m\\\\20211209.csv.gz',\n",
       " '../../data/Targets/high_10m\\\\20211210.csv.gz',\n",
       " '../../data/Targets/high_10m\\\\20211213.csv.gz',\n",
       " '../../data/Targets/high_10m\\\\20211214.csv.gz',\n",
       " '../../data/Targets/high_10m\\\\20211215.csv.gz',\n",
       " '../../data/Targets/high_10m\\\\20211216.csv.gz',\n",
       " '../../data/Targets/high_10m\\\\20211217.csv.gz',\n",
       " '../../data/Targets/high_10m\\\\20211220.csv.gz',\n",
       " '../../data/Targets/high_10m\\\\20211221.csv.gz',\n",
       " '../../data/Targets/high_10m\\\\20211222.csv.gz',\n",
       " '../../data/Targets/high_10m\\\\20211223.csv.gz',\n",
       " '../../data/Targets/high_10m\\\\20211227.csv.gz',\n",
       " '../../data/Targets/high_10m\\\\20211228.csv.gz',\n",
       " '../../data/Targets/high_10m\\\\20211229.csv.gz',\n",
       " '../../data/Targets/high_10m\\\\20211230.csv.gz',\n",
       " '../../data/Targets/high_10m\\\\20211231.csv.gz']"
      ]
     },
     "execution_count": 10,
     "metadata": {},
     "output_type": "execute_result"
    }
   ],
   "source": [
    "import pandas as pd\n",
    "import numpy as np \n",
    "import glob\n",
    "from tqdm import tqdm\n",
    "import sys\n",
    "import os\n",
    "\n",
    "files = sorted(glob.glob(\"../../data/Targets/high_10m/*.csv.gz\"))\n",
    "files"
   ]
  },
  {
   "cell_type": "code",
   "execution_count": 11,
   "id": "dcfe0100",
   "metadata": {},
   "outputs": [
    {
     "name": "stderr",
     "output_type": "stream",
     "text": [
      "Reading files: 100%|██████████| 22/22 [00:08<00:00,  2.70it/s]\n"
     ]
    }
   ],
   "source": [
    "days = []\n",
    "\n",
    "for fn in tqdm(files, desc= \"Reading files\"):\n",
    "    day = pd.read_csv(fn, compression= \"gzip\", parse_dates= [\"DATE\"])\n",
    "    days.append(day)\n",
    "\n",
    "df = pd.concat(days, ignore_index= True)"
   ]
  },
  {
   "cell_type": "code",
   "execution_count": null,
   "id": "912e0975",
   "metadata": {},
   "outputs": [
    {
     "name": "stdout",
     "output_type": "stream",
     "text": [
      "Shape of the data:  (6156358, 6)\n",
      "Number of stocks:  9509\n"
     ]
    }
   ],
   "source": [
    "print(\"Shape of the data: \", df.shape)\n",
    "print(\"Number of stocks: \", df[\"SYMBOL\"].nunique())\n"
   ]
  },
  {
   "cell_type": "markdown",
   "id": "2cac7368",
   "metadata": {},
   "source": [
    "### IF WE WANT TO TRADE DAILY AND NOT CARE ABOUT THE OVERNIGHT SHIFT, WE CALCULATE THE RETURN ON THE DAILY BASIS, MEANING I GROUPBY THE DATE AND WE START WITH A RETURN OF 0 EVERY DAY, WE CAN CHANGE THIS IN THE FUTURE"
   ]
  },
  {
   "cell_type": "code",
   "execution_count": null,
   "id": "133af2a3",
   "metadata": {},
   "outputs": [],
   "source": [
    "# Calculate the return on the column MID_OPEN, for each stock \"SYMBOL\" and on each day \"DATE\"\n",
    "df[\"RETURN\"] = (df.groupby([\"SYMBOL\", \"DATE\"])[\"MID_OPEN\"].pct_change()) # Best way to calcuate the return\n",
    "df[\"RETURN\"] = df[\"RETURN\"].fillna(0)"
   ]
  },
  {
   "cell_type": "code",
   "execution_count": 29,
   "id": "9250a35a",
   "metadata": {},
   "outputs": [],
   "source": [
    "# SAVE THE PARQUET IN THE DATA FOLDER FOR EASY ACCESS NEXT TIME\n",
    "\n",
    "df.to_parquet(\"../../data/high_10m.parquet\", index = False)"
   ]
  }
 ],
 "metadata": {
  "kernelspec": {
   "display_name": "ML_p",
   "language": "python",
   "name": "python3"
  },
  "language_info": {
   "codemirror_mode": {
    "name": "ipython",
    "version": 3
   },
   "file_extension": ".py",
   "mimetype": "text/x-python",
   "name": "python",
   "nbconvert_exporter": "python",
   "pygments_lexer": "ipython3",
   "version": "3.10.16"
  }
 },
 "nbformat": 4,
 "nbformat_minor": 5
}
