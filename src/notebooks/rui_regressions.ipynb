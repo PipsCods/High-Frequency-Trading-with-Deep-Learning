{
 "cells": [
  {
   "metadata": {},
   "cell_type": "markdown",
   "source": [
    "# Préambule\n",
    "___"
   ],
   "id": "51277052326f9a2f"
  },
  {
   "metadata": {
    "ExecuteTime": {
     "end_time": "2025-05-11T18:56:19.344333Z",
     "start_time": "2025-05-11T18:56:18.414633Z"
    }
   },
   "cell_type": "code",
   "source": [
    "import numpy as np\n",
    "import pandas as pd\n",
    "import pyarrow as pa\n",
    "import pyarrow.parquet as pq\n",
    "import os\n",
    "from sklearn.linear_model import LinearRegression\n",
    "from sklearn.metrics import r2_score, mean_absolute_error\n",
    "import tqdm\n",
    "import matplotlib.pyplot as plt\n",
    "from joblib import Parallel, delayed\n",
    "from sklearn.linear_model import Ridge\n",
    "\n",
    "\n",
    "from utils.financial_tools import sharpe_ratio\n",
    "\n",
    "np.random.seed(42)"
   ],
   "id": "f2b89e5f277fb1a9",
   "outputs": [],
   "execution_count": 1
  },
  {
   "metadata": {},
   "cell_type": "markdown",
   "source": [
    "## Handling the data\n",
    "___"
   ],
   "id": "49356faf37acb2fd"
  },
  {
   "metadata": {
    "ExecuteTime": {
     "end_time": "2025-05-11T18:56:20.664206Z",
     "start_time": "2025-05-11T18:56:19.462837Z"
    }
   },
   "cell_type": "code",
   "source": [
    "# Load the data\n",
    "file_path = \"data/high_10m.parquet\"\n",
    "\n",
    "table1 = pd.read_parquet(file_path)"
   ],
   "id": "initial_id",
   "outputs": [],
   "execution_count": 2
  },
  {
   "metadata": {
    "ExecuteTime": {
     "end_time": "2025-05-11T18:56:20.679431Z",
     "start_time": "2025-05-11T18:56:20.673105Z"
    }
   },
   "cell_type": "code",
   "source": "table1.head()",
   "id": "e853890a4328c5bf",
   "outputs": [
    {
     "data": {
      "text/plain": [
       "        DATE SYMBOL      TIME            ALL_EX  MID_OPEN  SUM_DELTA    RETURN\n",
       "0 2021-12-01      A  09:30:00   DNYBTJVPCZUKXHA   152.190  -8.401819  0.000000\n",
       "1 2021-12-01      A  09:40:00   PBTJVDZUYKNHCXM   150.490   0.473357 -0.011170\n",
       "2 2021-12-01      A  09:50:00    KDPBTJVNZUCXYH   151.475 -10.867709  0.006545\n",
       "3 2021-12-01      A  10:00:00   DABTJNKYVPZUXCH   150.510  -0.125414 -0.006371\n",
       "4 2021-12-01      A  10:10:00  DVJTPNKUZYACBXHM   151.960  -1.274648  0.009634"
      ],
      "text/html": [
       "<div>\n",
       "<style scoped>\n",
       "    .dataframe tbody tr th:only-of-type {\n",
       "        vertical-align: middle;\n",
       "    }\n",
       "\n",
       "    .dataframe tbody tr th {\n",
       "        vertical-align: top;\n",
       "    }\n",
       "\n",
       "    .dataframe thead th {\n",
       "        text-align: right;\n",
       "    }\n",
       "</style>\n",
       "<table border=\"1\" class=\"dataframe\">\n",
       "  <thead>\n",
       "    <tr style=\"text-align: right;\">\n",
       "      <th></th>\n",
       "      <th>DATE</th>\n",
       "      <th>SYMBOL</th>\n",
       "      <th>TIME</th>\n",
       "      <th>ALL_EX</th>\n",
       "      <th>MID_OPEN</th>\n",
       "      <th>SUM_DELTA</th>\n",
       "      <th>RETURN</th>\n",
       "    </tr>\n",
       "  </thead>\n",
       "  <tbody>\n",
       "    <tr>\n",
       "      <th>0</th>\n",
       "      <td>2021-12-01</td>\n",
       "      <td>A</td>\n",
       "      <td>09:30:00</td>\n",
       "      <td>DNYBTJVPCZUKXHA</td>\n",
       "      <td>152.190</td>\n",
       "      <td>-8.401819</td>\n",
       "      <td>0.000000</td>\n",
       "    </tr>\n",
       "    <tr>\n",
       "      <th>1</th>\n",
       "      <td>2021-12-01</td>\n",
       "      <td>A</td>\n",
       "      <td>09:40:00</td>\n",
       "      <td>PBTJVDZUYKNHCXM</td>\n",
       "      <td>150.490</td>\n",
       "      <td>0.473357</td>\n",
       "      <td>-0.011170</td>\n",
       "    </tr>\n",
       "    <tr>\n",
       "      <th>2</th>\n",
       "      <td>2021-12-01</td>\n",
       "      <td>A</td>\n",
       "      <td>09:50:00</td>\n",
       "      <td>KDPBTJVNZUCXYH</td>\n",
       "      <td>151.475</td>\n",
       "      <td>-10.867709</td>\n",
       "      <td>0.006545</td>\n",
       "    </tr>\n",
       "    <tr>\n",
       "      <th>3</th>\n",
       "      <td>2021-12-01</td>\n",
       "      <td>A</td>\n",
       "      <td>10:00:00</td>\n",
       "      <td>DABTJNKYVPZUXCH</td>\n",
       "      <td>150.510</td>\n",
       "      <td>-0.125414</td>\n",
       "      <td>-0.006371</td>\n",
       "    </tr>\n",
       "    <tr>\n",
       "      <th>4</th>\n",
       "      <td>2021-12-01</td>\n",
       "      <td>A</td>\n",
       "      <td>10:10:00</td>\n",
       "      <td>DVJTPNKUZYACBXHM</td>\n",
       "      <td>151.960</td>\n",
       "      <td>-1.274648</td>\n",
       "      <td>0.009634</td>\n",
       "    </tr>\n",
       "  </tbody>\n",
       "</table>\n",
       "</div>"
      ]
     },
     "execution_count": 3,
     "metadata": {},
     "output_type": "execute_result"
    }
   ],
   "execution_count": 3
  },
  {
   "metadata": {
    "ExecuteTime": {
     "end_time": "2025-05-11T18:56:23.342972Z",
     "start_time": "2025-05-11T18:56:20.704140Z"
    }
   },
   "cell_type": "code",
   "source": [
    "# Create a timestamp column\n",
    "table1['timestamp'] = pd.to_datetime(table1['DATE'].dt.strftime('%Y-%m-%d') + ' ' + table1['TIME'])\n",
    "table1 = table1.set_index('timestamp')"
   ],
   "id": "f6ea490fc908b885",
   "outputs": [],
   "execution_count": 4
  },
  {
   "metadata": {
    "ExecuteTime": {
     "end_time": "2025-05-11T18:56:23.495114Z",
     "start_time": "2025-05-11T18:56:23.364266Z"
    }
   },
   "cell_type": "code",
   "source": "table1 = table1.drop(['DATE', 'TIME'], axis=1, errors='ignore')",
   "id": "7030926604643755",
   "outputs": [],
   "execution_count": 5
  },
  {
   "metadata": {
    "ExecuteTime": {
     "end_time": "2025-05-11T18:56:23.509446Z",
     "start_time": "2025-05-11T18:56:23.504104Z"
    }
   },
   "cell_type": "code",
   "source": "table1",
   "id": "4506170b08a88a94",
   "outputs": [
    {
     "data": {
      "text/plain": [
       "                    SYMBOL            ALL_EX  MID_OPEN  SUM_DELTA    RETURN\n",
       "timestamp                                                                  \n",
       "2021-12-01 09:30:00      A   DNYBTJVPCZUKXHA   152.190  -8.401819  0.000000\n",
       "2021-12-01 09:40:00      A   PBTJVDZUYKNHCXM   150.490   0.473357 -0.011170\n",
       "2021-12-01 09:50:00      A    KDPBTJVNZUCXYH   151.475 -10.867709  0.006545\n",
       "2021-12-01 10:00:00      A   DABTJNKYVPZUXCH   150.510  -0.125414 -0.006371\n",
       "2021-12-01 10:10:00      A  DVJTPNKUZYACBXHM   151.960  -1.274648  0.009634\n",
       "...                    ...               ...       ...        ...       ...\n",
       "2021-12-31 15:00:00   ZYXI          DVJPQUZN    10.055  -0.050725 -0.006914\n",
       "2021-12-31 15:10:00   ZYXI           DQKJVUZ    10.040  -0.032836 -0.001492\n",
       "2021-12-31 15:20:00   ZYXI         QNKUZPDJV    10.040  -0.059878  0.000000\n",
       "2021-12-31 15:30:00   ZYXI         UKVQZPNDJ    10.010  -0.124826 -0.002988\n",
       "2021-12-31 15:40:00   ZYXI       DQZPCVKAJUN     9.990   0.079229 -0.001998\n",
       "\n",
       "[6156358 rows x 5 columns]"
      ],
      "text/html": [
       "<div>\n",
       "<style scoped>\n",
       "    .dataframe tbody tr th:only-of-type {\n",
       "        vertical-align: middle;\n",
       "    }\n",
       "\n",
       "    .dataframe tbody tr th {\n",
       "        vertical-align: top;\n",
       "    }\n",
       "\n",
       "    .dataframe thead th {\n",
       "        text-align: right;\n",
       "    }\n",
       "</style>\n",
       "<table border=\"1\" class=\"dataframe\">\n",
       "  <thead>\n",
       "    <tr style=\"text-align: right;\">\n",
       "      <th></th>\n",
       "      <th>SYMBOL</th>\n",
       "      <th>ALL_EX</th>\n",
       "      <th>MID_OPEN</th>\n",
       "      <th>SUM_DELTA</th>\n",
       "      <th>RETURN</th>\n",
       "    </tr>\n",
       "    <tr>\n",
       "      <th>timestamp</th>\n",
       "      <th></th>\n",
       "      <th></th>\n",
       "      <th></th>\n",
       "      <th></th>\n",
       "      <th></th>\n",
       "    </tr>\n",
       "  </thead>\n",
       "  <tbody>\n",
       "    <tr>\n",
       "      <th>2021-12-01 09:30:00</th>\n",
       "      <td>A</td>\n",
       "      <td>DNYBTJVPCZUKXHA</td>\n",
       "      <td>152.190</td>\n",
       "      <td>-8.401819</td>\n",
       "      <td>0.000000</td>\n",
       "    </tr>\n",
       "    <tr>\n",
       "      <th>2021-12-01 09:40:00</th>\n",
       "      <td>A</td>\n",
       "      <td>PBTJVDZUYKNHCXM</td>\n",
       "      <td>150.490</td>\n",
       "      <td>0.473357</td>\n",
       "      <td>-0.011170</td>\n",
       "    </tr>\n",
       "    <tr>\n",
       "      <th>2021-12-01 09:50:00</th>\n",
       "      <td>A</td>\n",
       "      <td>KDPBTJVNZUCXYH</td>\n",
       "      <td>151.475</td>\n",
       "      <td>-10.867709</td>\n",
       "      <td>0.006545</td>\n",
       "    </tr>\n",
       "    <tr>\n",
       "      <th>2021-12-01 10:00:00</th>\n",
       "      <td>A</td>\n",
       "      <td>DABTJNKYVPZUXCH</td>\n",
       "      <td>150.510</td>\n",
       "      <td>-0.125414</td>\n",
       "      <td>-0.006371</td>\n",
       "    </tr>\n",
       "    <tr>\n",
       "      <th>2021-12-01 10:10:00</th>\n",
       "      <td>A</td>\n",
       "      <td>DVJTPNKUZYACBXHM</td>\n",
       "      <td>151.960</td>\n",
       "      <td>-1.274648</td>\n",
       "      <td>0.009634</td>\n",
       "    </tr>\n",
       "    <tr>\n",
       "      <th>...</th>\n",
       "      <td>...</td>\n",
       "      <td>...</td>\n",
       "      <td>...</td>\n",
       "      <td>...</td>\n",
       "      <td>...</td>\n",
       "    </tr>\n",
       "    <tr>\n",
       "      <th>2021-12-31 15:00:00</th>\n",
       "      <td>ZYXI</td>\n",
       "      <td>DVJPQUZN</td>\n",
       "      <td>10.055</td>\n",
       "      <td>-0.050725</td>\n",
       "      <td>-0.006914</td>\n",
       "    </tr>\n",
       "    <tr>\n",
       "      <th>2021-12-31 15:10:00</th>\n",
       "      <td>ZYXI</td>\n",
       "      <td>DQKJVUZ</td>\n",
       "      <td>10.040</td>\n",
       "      <td>-0.032836</td>\n",
       "      <td>-0.001492</td>\n",
       "    </tr>\n",
       "    <tr>\n",
       "      <th>2021-12-31 15:20:00</th>\n",
       "      <td>ZYXI</td>\n",
       "      <td>QNKUZPDJV</td>\n",
       "      <td>10.040</td>\n",
       "      <td>-0.059878</td>\n",
       "      <td>0.000000</td>\n",
       "    </tr>\n",
       "    <tr>\n",
       "      <th>2021-12-31 15:30:00</th>\n",
       "      <td>ZYXI</td>\n",
       "      <td>UKVQZPNDJ</td>\n",
       "      <td>10.010</td>\n",
       "      <td>-0.124826</td>\n",
       "      <td>-0.002988</td>\n",
       "    </tr>\n",
       "    <tr>\n",
       "      <th>2021-12-31 15:40:00</th>\n",
       "      <td>ZYXI</td>\n",
       "      <td>DQZPCVKAJUN</td>\n",
       "      <td>9.990</td>\n",
       "      <td>0.079229</td>\n",
       "      <td>-0.001998</td>\n",
       "    </tr>\n",
       "  </tbody>\n",
       "</table>\n",
       "<p>6156358 rows × 5 columns</p>\n",
       "</div>"
      ]
     },
     "execution_count": 6,
     "metadata": {},
     "output_type": "execute_result"
    }
   ],
   "execution_count": 6
  },
  {
   "metadata": {
    "ExecuteTime": {
     "end_time": "2025-05-11T18:56:25.924379Z",
     "start_time": "2025-05-11T18:56:23.531147Z"
    }
   },
   "cell_type": "code",
   "source": [
    "# Create the lags for each stock\n",
    "lags = 10\n",
    "train_window = 50\n",
    "\n",
    "for lag in range(lags+1):\n",
    "    table1[f'return_lag_{lag}'] = table1.groupby('SYMBOL')['RETURN'].shift(lag)\n",
    "\n",
    "# Drop NaN values\n",
    "table1 = table1.dropna()"
   ],
   "id": "5499068554f46e46",
   "outputs": [],
   "execution_count": 7
  },
  {
   "metadata": {
    "ExecuteTime": {
     "end_time": "2025-05-11T18:56:26.155750Z",
     "start_time": "2025-05-11T18:56:25.951891Z"
    }
   },
   "cell_type": "code",
   "source": [
    "# Take some random stocks\n",
    "nb_random_stocks = 500\n",
    "list_of_symbols = table1['SYMBOL'].unique()\n",
    "\n",
    "random_stocks = np.random.choice(list_of_symbols, nb_random_stocks)\n",
    "table2 = table1[table1['SYMBOL'].isin(random_stocks)]"
   ],
   "id": "f11b0cf4a26fb133",
   "outputs": [],
   "execution_count": 8
  },
  {
   "metadata": {},
   "cell_type": "markdown",
   "source": [
    "## Useful functions\n",
    "___"
   ],
   "id": "d712ec59710a384e"
  },
  {
   "metadata": {
    "ExecuteTime": {
     "end_time": "2025-05-11T18:56:26.172898Z",
     "start_time": "2025-05-11T18:56:26.170438Z"
    }
   },
   "cell_type": "code",
   "source": [
    "def rolling_sampling(data: pd.DataFrame, train_window: int = 6):\n",
    "    \"\"\"\n",
    "    Generates rolling window splits for time series training and testing.\n",
    "\n",
    "    This function creates temporal splits using a rolling window approach for training\n",
    "    and testing data. It works with a timestamp-indexed Pandas DataFrame and a fixed\n",
    "    window size.\n",
    "\n",
    "    Args:\n",
    "        data: Input Pandas DataFrame with temporal index.\n",
    "        train_window: Number of time intervals for the training window.\n",
    "                     Represents how many historical data points are used\n",
    "                     for training. Default: 6 intervals.\n",
    "\n",
    "    Returns:\n",
    "        A tuple containing two lists:\n",
    "        - splitting_train: List of temporal indices for each training window\n",
    "        - splitting_test: List of temporal indices for each corresponding test point\n",
    "\n",
    "    Example:\n",
    "        >>> df = pd.DataFrame(...) # DataFrame with temporal index\n",
    "        >>> train_splits, test_splits = rolling_sampling(df, train_window=10)\n",
    "    \"\"\"\n",
    "\n",
    "    list_of_dates = data.index.unique()\n",
    "    number_of_splits = len(list_of_dates) - train_window\n",
    "\n",
    "    splitting_train = []  # Initialize as empty lists\n",
    "    splitting_test = []\n",
    "\n",
    "    for split in range(number_of_splits):\n",
    "        # Append date ranges as lists to splitting_train\n",
    "        splitting_train.append(list_of_dates[split : split + train_window])\n",
    "        # Append single dates to splitting_test\n",
    "        splitting_test.append(list_of_dates[split + train_window])\n",
    "\n",
    "    return splitting_train, splitting_test"
   ],
   "id": "427b0e741fc571b0",
   "outputs": [],
   "execution_count": 9
  },
  {
   "metadata": {},
   "cell_type": "markdown",
   "source": [
    "# Linear Regression\n",
    "___"
   ],
   "id": "6ab4521d8363ae88"
  },
  {
   "metadata": {
    "ExecuteTime": {
     "end_time": "2025-05-11T18:57:07.420642Z",
     "start_time": "2025-05-11T18:57:07.416937Z"
    }
   },
   "cell_type": "code",
   "source": [
    "from sklearn.linear_model import LinearRegression\n",
    "\n",
    "def run_regression_for_symbol(symbol, group):\n",
    "    group = group.sort_values(\"timestamp\")\n",
    "    splitting_train, splitting_test = rolling_sampling(group, train_window)\n",
    "\n",
    "    results = []\n",
    "\n",
    "    for slice_train, slice_test in zip(splitting_train, splitting_test):\n",
    "        window_data = group.loc[slice_train.union([slice_test])]\n",
    "\n",
    "        X = window_data[[f'return_lag_{lag}' for lag in range(1, lags + 1)]]\n",
    "        y = window_data['RETURN']\n",
    "\n",
    "        X_train = X.iloc[:-1]\n",
    "        X_test = X.iloc[[-1]]\n",
    "\n",
    "        y_train = y.iloc[:-1].values\n",
    "        y_test = y.iloc[-1]\n",
    "\n",
    "        reg = LinearRegression().fit(X_train, y_train)\n",
    "        y_pred = reg.predict(X_test)\n",
    "\n",
    "        results.append({\n",
    "            'symbol': symbol,\n",
    "            'timestamp': slice_test,\n",
    "            'y_true': y_test,\n",
    "            'y_pred': y_pred[0],\n",
    "            'managed_return': np.sign(y_pred[0]) * y_test\n",
    "        })\n",
    "\n",
    "    return results\n"
   ],
   "id": "ad8d46c4b0df6668",
   "outputs": [],
   "execution_count": 14
  },
  {
   "metadata": {
    "ExecuteTime": {
     "end_time": "2025-05-11T18:57:48.606627Z",
     "start_time": "2025-05-11T18:57:07.731983Z"
    }
   },
   "cell_type": "code",
   "source": [
    "# Run in parallel over all symbols\n",
    "results = Parallel(n_jobs=-1)(\n",
    "    delayed(run_regression_for_symbol)(symbol, group)\n",
    "    for symbol, group in tqdm.tqdm(table2.groupby(\"SYMBOL\"))\n",
    ")\n",
    "\n",
    "# Flatten the nested list of predictions\n",
    "all_predictions = [item for sublist in results for item in sublist]\n",
    "\n",
    "# Convert to DataFrame\n",
    "df_predictions = pd.DataFrame(all_predictions).set_index(['symbol', 'timestamp'])"
   ],
   "id": "d7f0054ed608fdd3",
   "outputs": [
    {
     "name": "stderr",
     "output_type": "stream",
     "text": [
      "\n",
      "\n",
      "\n",
      "  0%|          | 0/486 [00:00<?, ?it/s]\u001B[A\u001B[A\u001B[A\n",
      "\n",
      "\n",
      "  8%|▊         | 40/486 [00:01<00:20, 21.37it/s]\u001B[A\u001B[A\u001B[A\n",
      "\n",
      "\n",
      " 12%|█▏        | 60/486 [00:04<00:32, 13.25it/s]\u001B[A\u001B[A\u001B[A\n",
      "\n",
      "\n",
      " 16%|█▋        | 80/486 [00:06<00:34, 11.81it/s]\u001B[A\u001B[A\u001B[A\n",
      "\n",
      "\n",
      " 21%|██        | 100/486 [00:07<00:33, 11.63it/s]\u001B[A\u001B[A\u001B[A\n",
      "\n",
      "\n",
      " 25%|██▍       | 120/486 [00:09<00:32, 11.43it/s]\u001B[A\u001B[A\u001B[A\n",
      "\n",
      "\n",
      " 29%|██▉       | 140/486 [00:10<00:26, 13.09it/s]\u001B[A\u001B[A\u001B[A\n",
      "\n",
      "\n",
      " 33%|███▎      | 160/486 [00:12<00:26, 12.33it/s]\u001B[A\u001B[A\u001B[A\n",
      "\n",
      "\n",
      " 37%|███▋      | 180/486 [00:14<00:23, 12.85it/s]\u001B[A\u001B[A\u001B[A\n",
      "\n",
      "\n",
      " 41%|████      | 200/486 [00:15<00:22, 12.82it/s]\u001B[A\u001B[A\u001B[A\n",
      "\n",
      "\n",
      " 45%|████▌     | 220/486 [00:17<00:20, 12.79it/s]\u001B[A\u001B[A\u001B[A\n",
      "\n",
      "\n",
      " 49%|████▉     | 240/486 [00:18<00:18, 13.21it/s]\u001B[A\u001B[A\u001B[A\n",
      "\n",
      "\n",
      " 53%|█████▎    | 260/486 [00:20<00:17, 12.99it/s]\u001B[A\u001B[A\u001B[A\n",
      "\n",
      "\n",
      " 58%|█████▊    | 280/486 [00:21<00:15, 13.04it/s]\u001B[A\u001B[A\u001B[A\n",
      "\n",
      "\n",
      " 62%|██████▏   | 300/486 [00:23<00:13, 13.39it/s]\u001B[A\u001B[A\u001B[A\n",
      "\n",
      "\n",
      " 66%|██████▌   | 320/486 [00:24<00:12, 13.40it/s]\u001B[A\u001B[A\u001B[A\n",
      "\n",
      "\n",
      " 70%|██████▉   | 340/486 [00:26<00:11, 12.94it/s]\u001B[A\u001B[A\u001B[A\n",
      "\n",
      "\n",
      " 74%|███████▍  | 360/486 [00:27<00:10, 12.60it/s]\u001B[A\u001B[A\u001B[A\n",
      "\n",
      "\n",
      " 78%|███████▊  | 380/486 [00:29<00:08, 13.12it/s]\u001B[A\u001B[A\u001B[A\n",
      "\n",
      "\n",
      " 82%|████████▏ | 400/486 [00:30<00:05, 14.75it/s]\u001B[A\u001B[A\u001B[A\n",
      "\n",
      "\n",
      " 86%|████████▋ | 420/486 [00:32<00:04, 13.63it/s]\u001B[A\u001B[A\u001B[A\n",
      "\n",
      "\n",
      " 91%|█████████ | 440/486 [00:33<00:03, 12.52it/s]\u001B[A\u001B[A\u001B[A\n",
      "\n",
      "\n",
      " 95%|█████████▍| 460/486 [00:35<00:02, 12.18it/s]\u001B[A\u001B[A\u001B[A\n",
      "\n",
      "\n",
      "100%|██████████| 486/486 [00:37<00:00, 13.01it/s]\u001B[A\u001B[A\u001B[A\n"
     ]
    }
   ],
   "execution_count": 15
  },
  {
   "metadata": {},
   "cell_type": "markdown",
   "source": "## Scores",
   "id": "65cb94d098fe37c8"
  },
  {
   "metadata": {
    "ExecuteTime": {
     "end_time": "2025-05-11T18:57:51.074554Z",
     "start_time": "2025-05-11T18:57:51.066654Z"
    }
   },
   "cell_type": "code",
   "source": [
    "r2 = r2_score(df_predictions['y_true'], df_predictions['y_pred'])\n",
    "mae = mean_absolute_error(df_predictions['y_true'], df_predictions['y_pred'])\n",
    "\n",
    "print(f\"Overall R²: {r2:.4f}\")\n",
    "print(f\"Overall MAE: {mae:.6f}\")"
   ],
   "id": "113118de16c4d2a8",
   "outputs": [
    {
     "name": "stdout",
     "output_type": "stream",
     "text": [
      "Overall R²: -3.1245\n",
      "Overall MAE: 0.004009\n"
     ]
    }
   ],
   "execution_count": 16
  },
  {
   "metadata": {},
   "cell_type": "markdown",
   "source": "## Managed returns",
   "id": "994c032bc10b9731"
  },
  {
   "metadata": {
    "ExecuteTime": {
     "end_time": "2025-05-11T18:57:51.368151Z",
     "start_time": "2025-05-11T18:57:51.363895Z"
    }
   },
   "cell_type": "code",
   "source": [
    "all_managed_returns = []\n",
    "\n",
    "# Computing the managed return\n",
    "managed_return = np.sign(df_predictions['y_pred']) * df_predictions['y_true'] #go long if positive prediction, go short if negative prediction\n",
    "df_predictions['managed_return'] = managed_return"
   ],
   "id": "f9b80251f3a1873f",
   "outputs": [],
   "execution_count": 17
  },
  {
   "metadata": {
    "ExecuteTime": {
     "end_time": "2025-05-11T18:57:51.527676Z",
     "start_time": "2025-05-11T18:57:51.510304Z"
    }
   },
   "cell_type": "code",
   "source": [
    "realized_returns = df_predictions[['managed_return']].groupby(level=1).mean()\n",
    "df_cum = realized_returns.cumsum()\n",
    "real_returns = df_predictions[['y_true']].groupby(level=1).mean()\n",
    "df_real_cum = real_returns.cumsum()"
   ],
   "id": "14ceebf2073c8038",
   "outputs": [],
   "execution_count": 18
  },
  {
   "metadata": {
    "ExecuteTime": {
     "end_time": "2025-05-11T18:57:51.759104Z",
     "start_time": "2025-05-11T18:57:51.652143Z"
    }
   },
   "cell_type": "code",
   "source": [
    "plt.figure(figsize=(12, 6))\n",
    "plt.plot(df_real_cum, label=\"Cumulative Real Return (Equal-Weighted)\", linestyle=\"--\")\n",
    "plt.plot(df_cum, label=\"Cumulative Managed Return (Equal-Weighted)\", linewidth=2)\n",
    "plt.xlabel(\"Time\")\n",
    "plt.ylabel(\"Cumulative Return\")\n",
    "plt.title(\"Managed Strategy vs. Market Benchmark\")\n",
    "plt.legend()\n",
    "plt.grid(True)\n",
    "plt.tight_layout()\n",
    "plt.show()"
   ],
   "id": "65c811573e7c32e7",
   "outputs": [
    {
     "data": {
      "text/plain": [
       "<Figure size 1200x600 with 1 Axes>"
      ],
      "image/png": "[encoded data removed]"
     },
     "metadata": {},
     "output_type": "display_data"
    }
   ],
   "execution_count": 19
  },
  {
   "metadata": {
    "ExecuteTime": {
     "end_time": "2025-05-11T18:57:51.817762Z",
     "start_time": "2025-05-11T18:57:51.804783Z"
    }
   },
   "cell_type": "code",
   "source": [
    "tmp = df_predictions[['y_true','managed_return']].groupby(level=1).mean()\n",
    "tmp = tmp/tmp.std()\n",
    "\n",
    "sr = sharpe_ratio(tmp)"
   ],
   "id": "ec18eeea1eba9c88",
   "outputs": [],
   "execution_count": 20
  },
  {
   "metadata": {
    "ExecuteTime": {
     "end_time": "2025-05-11T18:57:51.957439Z",
     "start_time": "2025-05-11T18:57:51.954368Z"
    }
   },
   "cell_type": "code",
   "source": "print(sr)",
   "id": "4ab813bbd5f8406c",
   "outputs": [
    {
     "name": "stdout",
     "output_type": "stream",
     "text": [
      "y_true           -0.09\n",
      "managed_return    0.38\n",
      "dtype: float64\n"
     ]
    }
   ],
   "execution_count": 21
  },
  {
   "metadata": {},
   "cell_type": "markdown",
   "source": [
    "# Ridge regression (non-random)\n",
    "___"
   ],
   "id": "29095d44b43228ee"
  },
  {
   "metadata": {
    "ExecuteTime": {
     "end_time": "2025-05-11T18:57:52.221595Z",
     "start_time": "2025-05-11T18:57:52.217787Z"
    }
   },
   "cell_type": "code",
   "source": [
    "shrinkage_list = [0.0001, 0.001, 0.01, 0.1, 1, 10, 100]\n",
    "\n",
    "def run_ridge_for_symbol(symbol, group):\n",
    "    group = group.sort_values(\"timestamp\")\n",
    "    splitting_train, splitting_test = rolling_sampling(group, train_window)\n",
    "\n",
    "    results = []\n",
    "\n",
    "    for slice_train, slice_test in zip(splitting_train, splitting_test):\n",
    "        window_data = group.loc[slice_train.union([slice_test])]\n",
    "        X = window_data[[f'return_lag_{lag}' for lag in range(1, lags + 1)]]\n",
    "        y = window_data['RETURN']\n",
    "\n",
    "        X_train = X.iloc[:-1]\n",
    "        X_test = X.iloc[[-1]]\n",
    "        y_train = y.iloc[:-1]\n",
    "        y_test = y.iloc[-1]\n",
    "\n",
    "        for alpha in shrinkage_list:\n",
    "            clf = Ridge(alpha=alpha)\n",
    "            clf.fit(X_train, y_train)\n",
    "            y_pred = clf.predict(X_test)\n",
    "\n",
    "            results.append({\n",
    "                'symbol': symbol,\n",
    "                'timestamp': slice_test,\n",
    "                'alpha': alpha,\n",
    "                'y_true': y_test,\n",
    "                'y_pred': y_pred[0],\n",
    "                'managed_return': np.sign(y_pred[0]) * y_test\n",
    "            })\n",
    "\n",
    "    return results"
   ],
   "id": "31cfd9fe03f4dc2a",
   "outputs": [],
   "execution_count": 22
  },
  {
   "metadata": {
    "ExecuteTime": {
     "end_time": "2025-05-11T19:01:17.941926Z",
     "start_time": "2025-05-11T18:57:52.367891Z"
    }
   },
   "cell_type": "code",
   "source": [
    "# Run in parallel over all symbols\n",
    "results = Parallel(n_jobs=-1)(\n",
    "    delayed(run_ridge_for_symbol)(symbol, group)\n",
    "    for symbol, group in tqdm.tqdm(table2.groupby(\"SYMBOL\"))\n",
    ")\n",
    "\n",
    "# Flatten the nested list of predictions\n",
    "all_predictions = [item for sublist in results for item in sublist]\n",
    "\n",
    "# Convert to DataFrame\n",
    "df_predictions = pd.DataFrame(all_predictions).set_index(['symbol', 'timestamp'])"
   ],
   "id": "2dd35a23d013b28",
   "outputs": [
    {
     "name": "stderr",
     "output_type": "stream",
     "text": [
      "\n",
      "\n",
      "\n",
      "  0%|          | 0/486 [00:00<?, ?it/s]\u001B[A\u001B[A\u001B[A\n",
      "\n",
      "\n",
      " 16%|█▋        | 80/486 [00:10<00:54,  7.44it/s]\u001B[A\u001B[A\u001B[A\n",
      "\n",
      "\n",
      " 25%|██▍       | 120/486 [00:20<01:06,  5.47it/s]\u001B[A\u001B[A\u001B[A\n",
      "\n",
      "\n",
      " 29%|██▉       | 140/486 [00:38<01:57,  2.95it/s]\u001B[A\u001B[A\u001B[A\n",
      "\n",
      "\n",
      " 33%|███▎      | 160/486 [00:48<02:07,  2.57it/s]\u001B[A\u001B[A\u001B[A\n",
      "\n",
      "\n",
      " 37%|███▋      | 180/486 [00:55<01:54,  2.68it/s]\u001B[A\u001B[A\u001B[A\n",
      "\n",
      "\n",
      " 41%|████      | 200/486 [01:02<01:45,  2.71it/s]\u001B[A\u001B[A\u001B[A\n",
      "\n",
      "\n",
      " 45%|████▌     | 220/486 [01:10<01:38,  2.70it/s]\u001B[A\u001B[A\u001B[A\n",
      "\n",
      "\n",
      " 49%|████▉     | 240/486 [01:17<01:32,  2.66it/s]\u001B[A\u001B[A\u001B[A\n",
      "\n",
      "\n",
      " 53%|█████▎    | 260/486 [01:35<01:57,  1.93it/s]\u001B[A\u001B[A\u001B[A\n",
      "\n",
      "\n",
      " 58%|█████▊    | 280/486 [01:51<02:05,  1.65it/s]\u001B[A\u001B[A\u001B[A\n",
      "\n",
      "\n",
      " 62%|██████▏   | 300/486 [01:59<01:39,  1.87it/s]\u001B[A\u001B[A\u001B[A\n",
      "\n",
      "\n",
      " 66%|██████▌   | 320/486 [02:07<01:24,  1.97it/s]\u001B[A\u001B[A\u001B[A\n",
      "\n",
      "\n",
      " 70%|██████▉   | 340/486 [02:13<01:03,  2.28it/s]\u001B[A\u001B[A\u001B[A\n",
      "\n",
      "\n",
      " 74%|███████▍  | 360/486 [02:21<00:54,  2.32it/s]\u001B[A\u001B[A\u001B[A\n",
      "\n",
      "\n",
      " 78%|███████▊  | 380/486 [02:29<00:44,  2.39it/s]\u001B[A\u001B[A\u001B[A\n",
      "\n",
      "\n",
      " 82%|████████▏ | 400/486 [02:35<00:32,  2.64it/s]\u001B[A\u001B[A\u001B[A\n",
      "\n",
      "\n",
      " 86%|████████▋ | 420/486 [02:43<00:25,  2.58it/s]\u001B[A\u001B[A\u001B[A\n",
      "\n",
      "\n",
      " 91%|█████████ | 440/486 [02:51<00:18,  2.53it/s]\u001B[A\u001B[A\u001B[A\n",
      "\n",
      "\n",
      " 95%|█████████▍| 460/486 [02:59<00:10,  2.51it/s]\u001B[A\u001B[A\u001B[A\n",
      "\n",
      "\n",
      "100%|██████████| 486/486 [03:06<00:00,  2.60it/s]\u001B[A\u001B[A\u001B[A\n"
     ]
    }
   ],
   "execution_count": 23
  },
  {
   "metadata": {},
   "cell_type": "markdown",
   "source": "## Scores",
   "id": "8760e1c57d1a25ce"
  },
  {
   "metadata": {
    "ExecuteTime": {
     "end_time": "2025-05-11T19:01:18.820601Z",
     "start_time": "2025-05-11T19:01:18.778779Z"
    }
   },
   "cell_type": "code",
   "source": [
    "r2 = r2_score(df_predictions['y_true'], df_predictions['y_pred'])\n",
    "mae = mean_absolute_error(df_predictions['y_true'], df_predictions['y_pred'])\n",
    "\n",
    "print(f\"Overall R²: {r2:.4f}\")\n",
    "print(f\"Overall MAE: {mae:.6f}\")"
   ],
   "id": "9f74802d3cfc097a",
   "outputs": [
    {
     "name": "stdout",
     "output_type": "stream",
     "text": [
      "Overall R²: -0.1590\n",
      "Overall MAE: 0.003305\n"
     ]
    }
   ],
   "execution_count": 30
  },
  {
   "metadata": {},
   "cell_type": "markdown",
   "source": "## Managed returns",
   "id": "ac984a315b5834c6"
  },
  {
   "metadata": {
    "ExecuteTime": {
     "end_time": "2025-05-11T19:01:18.953766Z",
     "start_time": "2025-05-11T19:01:18.923992Z"
    }
   },
   "cell_type": "code",
   "source": "df_predictions = df_predictions.reset_index()",
   "id": "1186153d117dad33",
   "outputs": [],
   "execution_count": 32
  },
  {
   "metadata": {
    "ExecuteTime": {
     "end_time": "2025-05-11T19:01:18.995250Z",
     "start_time": "2025-05-11T19:01:18.969925Z"
    }
   },
   "cell_type": "code",
   "source": [
    "df_market_returns = df_predictions.groupby('timestamp')['y_true'].mean()\n",
    "df_market_returns.head(5)"
   ],
   "id": "b91950eba9e2f89f",
   "outputs": [
    {
     "data": {
      "text/plain": [
       "timestamp\n",
       "2021-12-02 13:10:00   -0.001284\n",
       "2021-12-02 13:20:00    0.000296\n",
       "2021-12-02 13:30:00   -0.002860\n",
       "2021-12-02 13:40:00    0.002707\n",
       "2021-12-02 13:50:00   -0.001383\n",
       "Name: y_true, dtype: float64"
      ]
     },
     "execution_count": 33,
     "metadata": {},
     "output_type": "execute_result"
    }
   ],
   "execution_count": 33
  },
  {
   "metadata": {
    "ExecuteTime": {
     "end_time": "2025-05-11T19:01:19.056419Z",
     "start_time": "2025-05-11T19:01:19.029487Z"
    }
   },
   "cell_type": "code",
   "source": [
    "df_market_timing = df_predictions[['symbol','timestamp','alpha','y_pred','managed_return']]\n",
    "df_market_timing.head(5)"
   ],
   "id": "c212c308a7a769f5",
   "outputs": [
    {
     "data": {
      "text/plain": [
       "  symbol           timestamp   alpha    y_pred  managed_return\n",
       "0   AACG 2021-12-03 09:50:00  0.0001 -0.009234        0.016892\n",
       "1   AACG 2021-12-03 09:50:00  0.0010 -0.008098        0.016892\n",
       "2   AACG 2021-12-03 09:50:00  0.0100 -0.004315        0.016892\n",
       "3   AACG 2021-12-03 09:50:00  0.1000 -0.001963        0.016892\n",
       "4   AACG 2021-12-03 09:50:00  1.0000 -0.001573        0.016892"
      ],
      "text/html": [
       "<div>\n",
       "<style scoped>\n",
       "    .dataframe tbody tr th:only-of-type {\n",
       "        vertical-align: middle;\n",
       "    }\n",
       "\n",
       "    .dataframe tbody tr th {\n",
       "        vertical-align: top;\n",
       "    }\n",
       "\n",
       "    .dataframe thead th {\n",
       "        text-align: right;\n",
       "    }\n",
       "</style>\n",
       "<table border=\"1\" class=\"dataframe\">\n",
       "  <thead>\n",
       "    <tr style=\"text-align: right;\">\n",
       "      <th></th>\n",
       "      <th>symbol</th>\n",
       "      <th>timestamp</th>\n",
       "      <th>alpha</th>\n",
       "      <th>y_pred</th>\n",
       "      <th>managed_return</th>\n",
       "    </tr>\n",
       "  </thead>\n",
       "  <tbody>\n",
       "    <tr>\n",
       "      <th>0</th>\n",
       "      <td>AACG</td>\n",
       "      <td>2021-12-03 09:50:00</td>\n",
       "      <td>0.0001</td>\n",
       "      <td>-0.009234</td>\n",
       "      <td>0.016892</td>\n",
       "    </tr>\n",
       "    <tr>\n",
       "      <th>1</th>\n",
       "      <td>AACG</td>\n",
       "      <td>2021-12-03 09:50:00</td>\n",
       "      <td>0.0010</td>\n",
       "      <td>-0.008098</td>\n",
       "      <td>0.016892</td>\n",
       "    </tr>\n",
       "    <tr>\n",
       "      <th>2</th>\n",
       "      <td>AACG</td>\n",
       "      <td>2021-12-03 09:50:00</td>\n",
       "      <td>0.0100</td>\n",
       "      <td>-0.004315</td>\n",
       "      <td>0.016892</td>\n",
       "    </tr>\n",
       "    <tr>\n",
       "      <th>3</th>\n",
       "      <td>AACG</td>\n",
       "      <td>2021-12-03 09:50:00</td>\n",
       "      <td>0.1000</td>\n",
       "      <td>-0.001963</td>\n",
       "      <td>0.016892</td>\n",
       "    </tr>\n",
       "    <tr>\n",
       "      <th>4</th>\n",
       "      <td>AACG</td>\n",
       "      <td>2021-12-03 09:50:00</td>\n",
       "      <td>1.0000</td>\n",
       "      <td>-0.001573</td>\n",
       "      <td>0.016892</td>\n",
       "    </tr>\n",
       "  </tbody>\n",
       "</table>\n",
       "</div>"
      ]
     },
     "execution_count": 34,
     "metadata": {},
     "output_type": "execute_result"
    }
   ],
   "execution_count": 34
  },
  {
   "metadata": {
    "ExecuteTime": {
     "end_time": "2025-05-11T19:01:19.497492Z",
     "start_time": "2025-05-11T19:01:19.102118Z"
    }
   },
   "cell_type": "code",
   "source": [
    "df_market_timing = pd.pivot_table(df_market_timing, values=['managed_return'], index=['symbol', 'timestamp'],\n",
    "                       columns=['alpha'], aggfunc=\"mean\")\n",
    "df_market_timing.head(5)"
   ],
   "id": "b52efe8e700b5ea3",
   "outputs": [
    {
     "data": {
      "text/plain": [
       "                           managed_return                                \\\n",
       "alpha                            0.0001    0.0010    0.0100    0.1000     \n",
       "symbol timestamp                                                          \n",
       "AACG   2021-12-03 09:50:00       0.016892  0.016892  0.016892  0.016892   \n",
       "       2021-12-03 10:00:00      -0.003436  0.003436  0.003436  0.003436   \n",
       "       2021-12-03 10:10:00      -0.010345 -0.010345  0.010345  0.010345   \n",
       "       2021-12-03 10:20:00       0.020906  0.020906  0.020906  0.020906   \n",
       "       2021-12-03 10:30:00       0.000000  0.000000  0.000000  0.000000   \n",
       "\n",
       "                                                          \n",
       "alpha                       1.0000    10.0000   100.0000  \n",
       "symbol timestamp                                          \n",
       "AACG   2021-12-03 09:50:00  0.016892  0.016892  0.016892  \n",
       "       2021-12-03 10:00:00  0.003436  0.003436  0.003436  \n",
       "       2021-12-03 10:10:00  0.010345  0.010345  0.010345  \n",
       "       2021-12-03 10:20:00  0.020906  0.020906  0.020906  \n",
       "       2021-12-03 10:30:00  0.000000  0.000000  0.000000  "
      ],
      "text/html": [
       "<div>\n",
       "<style scoped>\n",
       "    .dataframe tbody tr th:only-of-type {\n",
       "        vertical-align: middle;\n",
       "    }\n",
       "\n",
       "    .dataframe tbody tr th {\n",
       "        vertical-align: top;\n",
       "    }\n",
       "\n",
       "    .dataframe thead tr th {\n",
       "        text-align: left;\n",
       "    }\n",
       "\n",
       "    .dataframe thead tr:last-of-type th {\n",
       "        text-align: right;\n",
       "    }\n",
       "</style>\n",
       "<table border=\"1\" class=\"dataframe\">\n",
       "  <thead>\n",
       "    <tr>\n",
       "      <th></th>\n",
       "      <th></th>\n",
       "      <th colspan=\"7\" halign=\"left\">managed_return</th>\n",
       "    </tr>\n",
       "    <tr>\n",
       "      <th></th>\n",
       "      <th>alpha</th>\n",
       "      <th>0.0001</th>\n",
       "      <th>0.0010</th>\n",
       "      <th>0.0100</th>\n",
       "      <th>0.1000</th>\n",
       "      <th>1.0000</th>\n",
       "      <th>10.0000</th>\n",
       "      <th>100.0000</th>\n",
       "    </tr>\n",
       "    <tr>\n",
       "      <th>symbol</th>\n",
       "      <th>timestamp</th>\n",
       "      <th></th>\n",
       "      <th></th>\n",
       "      <th></th>\n",
       "      <th></th>\n",
       "      <th></th>\n",
       "      <th></th>\n",
       "      <th></th>\n",
       "    </tr>\n",
       "  </thead>\n",
       "  <tbody>\n",
       "    <tr>\n",
       "      <th rowspan=\"5\" valign=\"top\">AACG</th>\n",
       "      <th>2021-12-03 09:50:00</th>\n",
       "      <td>0.016892</td>\n",
       "      <td>0.016892</td>\n",
       "      <td>0.016892</td>\n",
       "      <td>0.016892</td>\n",
       "      <td>0.016892</td>\n",
       "      <td>0.016892</td>\n",
       "      <td>0.016892</td>\n",
       "    </tr>\n",
       "    <tr>\n",
       "      <th>2021-12-03 10:00:00</th>\n",
       "      <td>-0.003436</td>\n",
       "      <td>0.003436</td>\n",
       "      <td>0.003436</td>\n",
       "      <td>0.003436</td>\n",
       "      <td>0.003436</td>\n",
       "      <td>0.003436</td>\n",
       "      <td>0.003436</td>\n",
       "    </tr>\n",
       "    <tr>\n",
       "      <th>2021-12-03 10:10:00</th>\n",
       "      <td>-0.010345</td>\n",
       "      <td>-0.010345</td>\n",
       "      <td>0.010345</td>\n",
       "      <td>0.010345</td>\n",
       "      <td>0.010345</td>\n",
       "      <td>0.010345</td>\n",
       "      <td>0.010345</td>\n",
       "    </tr>\n",
       "    <tr>\n",
       "      <th>2021-12-03 10:20:00</th>\n",
       "      <td>0.020906</td>\n",
       "      <td>0.020906</td>\n",
       "      <td>0.020906</td>\n",
       "      <td>0.020906</td>\n",
       "      <td>0.020906</td>\n",
       "      <td>0.020906</td>\n",
       "      <td>0.020906</td>\n",
       "    </tr>\n",
       "    <tr>\n",
       "      <th>2021-12-03 10:30:00</th>\n",
       "      <td>0.000000</td>\n",
       "      <td>0.000000</td>\n",
       "      <td>0.000000</td>\n",
       "      <td>0.000000</td>\n",
       "      <td>0.000000</td>\n",
       "      <td>0.000000</td>\n",
       "      <td>0.000000</td>\n",
       "    </tr>\n",
       "  </tbody>\n",
       "</table>\n",
       "</div>"
      ]
     },
     "execution_count": 35,
     "metadata": {},
     "output_type": "execute_result"
    }
   ],
   "execution_count": 35
  },
  {
   "metadata": {
    "ExecuteTime": {
     "end_time": "2025-05-11T19:01:19.570191Z",
     "start_time": "2025-05-11T19:01:19.555729Z"
    }
   },
   "cell_type": "code",
   "source": [
    "df_market_timing = df_market_timing.groupby(level=1).mean()\n",
    "df_market_timing.head(5)"
   ],
   "id": "7afb38d727a111c1",
   "outputs": [
    {
     "data": {
      "text/plain": [
       "                    managed_return                                          \\\n",
       "alpha                     0.0001    0.0010    0.0100    0.1000    1.0000     \n",
       "timestamp                                                                    \n",
       "2021-12-02 13:10:00       0.000128  0.000315  0.001000  0.001278  0.001403   \n",
       "2021-12-02 13:20:00       0.000136  0.000114 -0.000376 -0.000348 -0.000191   \n",
       "2021-12-02 13:30:00       0.001616  0.001828  0.002246  0.002593  0.002453   \n",
       "2021-12-02 13:40:00      -0.000274 -0.000458 -0.001815 -0.002525 -0.002503   \n",
       "2021-12-02 13:50:00      -0.000043  0.000068  0.000745  0.001149  0.001142   \n",
       "\n",
       "                                         \n",
       "alpha                10.0000   100.0000  \n",
       "timestamp                                \n",
       "2021-12-02 13:10:00  0.001396  0.001396  \n",
       "2021-12-02 13:20:00 -0.000191 -0.000191  \n",
       "2021-12-02 13:30:00  0.002385  0.002385  \n",
       "2021-12-02 13:40:00 -0.002262 -0.002262  \n",
       "2021-12-02 13:50:00  0.001142  0.001142  "
      ],
      "text/html": [
       "<div>\n",
       "<style scoped>\n",
       "    .dataframe tbody tr th:only-of-type {\n",
       "        vertical-align: middle;\n",
       "    }\n",
       "\n",
       "    .dataframe tbody tr th {\n",
       "        vertical-align: top;\n",
       "    }\n",
       "\n",
       "    .dataframe thead tr th {\n",
       "        text-align: left;\n",
       "    }\n",
       "\n",
       "    .dataframe thead tr:last-of-type th {\n",
       "        text-align: right;\n",
       "    }\n",
       "</style>\n",
       "<table border=\"1\" class=\"dataframe\">\n",
       "  <thead>\n",
       "    <tr>\n",
       "      <th></th>\n",
       "      <th colspan=\"7\" halign=\"left\">managed_return</th>\n",
       "    </tr>\n",
       "    <tr>\n",
       "      <th>alpha</th>\n",
       "      <th>0.0001</th>\n",
       "      <th>0.0010</th>\n",
       "      <th>0.0100</th>\n",
       "      <th>0.1000</th>\n",
       "      <th>1.0000</th>\n",
       "      <th>10.0000</th>\n",
       "      <th>100.0000</th>\n",
       "    </tr>\n",
       "    <tr>\n",
       "      <th>timestamp</th>\n",
       "      <th></th>\n",
       "      <th></th>\n",
       "      <th></th>\n",
       "      <th></th>\n",
       "      <th></th>\n",
       "      <th></th>\n",
       "      <th></th>\n",
       "    </tr>\n",
       "  </thead>\n",
       "  <tbody>\n",
       "    <tr>\n",
       "      <th>2021-12-02 13:10:00</th>\n",
       "      <td>0.000128</td>\n",
       "      <td>0.000315</td>\n",
       "      <td>0.001000</td>\n",
       "      <td>0.001278</td>\n",
       "      <td>0.001403</td>\n",
       "      <td>0.001396</td>\n",
       "      <td>0.001396</td>\n",
       "    </tr>\n",
       "    <tr>\n",
       "      <th>2021-12-02 13:20:00</th>\n",
       "      <td>0.000136</td>\n",
       "      <td>0.000114</td>\n",
       "      <td>-0.000376</td>\n",
       "      <td>-0.000348</td>\n",
       "      <td>-0.000191</td>\n",
       "      <td>-0.000191</td>\n",
       "      <td>-0.000191</td>\n",
       "    </tr>\n",
       "    <tr>\n",
       "      <th>2021-12-02 13:30:00</th>\n",
       "      <td>0.001616</td>\n",
       "      <td>0.001828</td>\n",
       "      <td>0.002246</td>\n",
       "      <td>0.002593</td>\n",
       "      <td>0.002453</td>\n",
       "      <td>0.002385</td>\n",
       "      <td>0.002385</td>\n",
       "    </tr>\n",
       "    <tr>\n",
       "      <th>2021-12-02 13:40:00</th>\n",
       "      <td>-0.000274</td>\n",
       "      <td>-0.000458</td>\n",
       "      <td>-0.001815</td>\n",
       "      <td>-0.002525</td>\n",
       "      <td>-0.002503</td>\n",
       "      <td>-0.002262</td>\n",
       "      <td>-0.002262</td>\n",
       "    </tr>\n",
       "    <tr>\n",
       "      <th>2021-12-02 13:50:00</th>\n",
       "      <td>-0.000043</td>\n",
       "      <td>0.000068</td>\n",
       "      <td>0.000745</td>\n",
       "      <td>0.001149</td>\n",
       "      <td>0.001142</td>\n",
       "      <td>0.001142</td>\n",
       "      <td>0.001142</td>\n",
       "    </tr>\n",
       "  </tbody>\n",
       "</table>\n",
       "</div>"
      ]
     },
     "execution_count": 36,
     "metadata": {},
     "output_type": "execute_result"
    }
   ],
   "execution_count": 36
  },
  {
   "metadata": {
    "ExecuteTime": {
     "end_time": "2025-05-11T19:01:19.641045Z",
     "start_time": "2025-05-11T19:01:19.635361Z"
    }
   },
   "cell_type": "code",
   "source": [
    "tmp = pd.concat([df_market_returns,df_market_timing], axis = 1)\n",
    "tmp = tmp/tmp.std()\n",
    "sr = sharpe_ratio(tmp)"
   ],
   "id": "51d0d7ac38b97bc1",
   "outputs": [],
   "execution_count": 37
  },
  {
   "metadata": {
    "ExecuteTime": {
     "end_time": "2025-05-11T19:01:19.726192Z",
     "start_time": "2025-05-11T19:01:19.723882Z"
    }
   },
   "cell_type": "code",
   "source": [
    "market_returns = tmp['y_true']\n",
    "managed_returns = tmp.iloc[:,1:]"
   ],
   "id": "7a147177f6db6ca9",
   "outputs": [],
   "execution_count": 38
  },
  {
   "metadata": {
    "ExecuteTime": {
     "end_time": "2025-05-11T19:01:19.905344Z",
     "start_time": "2025-05-11T19:01:19.789493Z"
    }
   },
   "cell_type": "code",
   "source": [
    "plt.figure(figsize=(12, 6))\n",
    "plt.plot(market_returns.cumsum(), label=\"Market returns\", linestyle=\"--\")\n",
    "\n",
    "for alpha in shrinkage_list:\n",
    "\n",
    "    plt.plot(\n",
    "       managed_returns.cumsum()[('managed_return', alpha)],\n",
    "       label=f\"Managed returns (α={alpha})\"\n",
    "    )\n",
    "\n",
    "plt.xlabel(\"Time\")\n",
    "plt.ylabel(\"Cumulative Return\")\n",
    "plt.title(\"Managed Strategy vs. Market Benchmark\")\n",
    "plt.legend()\n",
    "plt.grid(True)\n",
    "plt.tight_layout()\n",
    "plt.show()\n"
   ],
   "id": "b226d24f5f49a16f",
   "outputs": [
    {
     "data": {
      "text/plain": [
       "<Figure size 1200x600 with 1 Axes>"
      ],
      "image/png": "[encoded data removed]"
     },
     "metadata": {},
     "output_type": "display_data"
    }
   ],
   "execution_count": 39
  },
  {
   "metadata": {
    "ExecuteTime": {
     "end_time": "2025-05-11T19:01:19.928878Z",
     "start_time": "2025-05-11T19:01:19.926040Z"
    }
   },
   "cell_type": "code",
   "source": "print(sr)",
   "id": "4d428fee6237cef5",
   "outputs": [
    {
     "name": "stdout",
     "output_type": "stream",
     "text": [
      "y_true                     -0.09\n",
      "(managed_return, 0.0001)    0.36\n",
      "(managed_return, 0.001)     0.29\n",
      "(managed_return, 0.01)      0.21\n",
      "(managed_return, 0.1)       0.08\n",
      "(managed_return, 1.0)       0.06\n",
      "(managed_return, 10.0)      0.06\n",
      "(managed_return, 100.0)     0.06\n",
      "dtype: float64\n"
     ]
    }
   ],
   "execution_count": 40
  }
 ],
 "metadata": {
  "kernelspec": {
   "display_name": "Python 3",
   "language": "python",
   "name": "python3"
  },
  "language_info": {
   "codemirror_mode": {
    "name": "ipython",
    "version": 2
   },
   "file_extension": ".py",
   "mimetype": "text/x-python",
   "name": "python",
   "nbconvert_exporter": "python",
   "pygments_lexer": "ipython2",
   "version": "2.7.6"
  }
 },
 "nbformat": 4,
 "nbformat_minor": 5
}
